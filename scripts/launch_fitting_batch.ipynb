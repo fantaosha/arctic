{
 "cells": [
  {
   "cell_type": "code",
   "execution_count": 1,
   "id": "19f56c2e",
   "metadata": {},
   "outputs": [],
   "source": [
    "import os\n",
    "import subprocess\n",
    "import numpy as np\n",
    "import random\n",
    "from tqdm import tqdm"
   ]
  },
  {
   "cell_type": "code",
   "execution_count": 2,
   "id": "28ba4452",
   "metadata": {},
   "outputs": [],
   "source": [
    "data_dir = \"/large_experiments/3po/data/arctic/arctic/data/arctic_data/data\"\n",
    "save_dir = \"/private/home/taoshaf/data/arctic\"\n",
    "mocap_dir = os.path.join(data_dir, \"mocap_npy\")\n",
    "seqs = [\n",
    "    \"/\".join(seq.split(\".npy\")[0].split(\"_\", 1))\n",
    "    for seq in sorted(os.listdir(mocap_dir))\n",
    "]"
   ]
  },
  {
   "cell_type": "code",
   "execution_count": 3,
   "id": "f1251274",
   "metadata": {},
   "outputs": [],
   "source": [
    "num_seqs = len(seqs)\n",
    "num_jobs = min(len(seqs), 64)\n",
    "num_seqs_per_job = num_seqs // num_jobs\n",
    "seqs_for_jobs = [\n",
    "    num_seqs_per_job + (job < (num_seqs - num_seqs_per_job * num_jobs))\n",
    "    for job in range(num_jobs)\n",
    "]\n",
    "seq_offsets = np.cumsum([0] + seqs_for_jobs)"
   ]
  },
  {
   "cell_type": "code",
   "execution_count": null,
   "id": "9568fd84",
   "metadata": {},
   "outputs": [
    {
     "name": "stdout",
     "output_type": "stream",
     "text": [
      "0: sbatch launch/submit_jobs.bash scripts/launch_fitting.py --dataset arctic --exps keypoint_dense/init_single_frame_fitting_pca --seqs s01/box_grab_01,s01/box_use_01,s01/box_use_02,s01/capsulemachine_grab_01,s01/capsulemachine_use_01\n",
      "Submitted batch job 53777401\n",
      "1: sbatch launch/submit_jobs.bash scripts/launch_fitting.py --dataset arctic --exps keypoint_dense/init_single_frame_fitting_pca --seqs s01/capsulemachine_use_02,s01/espressomachine_grab_01,s01/espressomachine_use_01,s01/espressomachine_use_02,s01/ketchup_grab_01\n",
      "Submitted batch job 53777403\n",
      "2: sbatch launch/submit_jobs.bash scripts/launch_fitting.py --dataset arctic --exps keypoint_dense/init_single_frame_fitting_pca --seqs s01/ketchup_use_01,s01/ketchup_use_02,s01/laptop_grab_01,s01/laptop_use_01,s01/laptop_use_02\n",
      "Submitted batch job 53777404\n",
      "3: sbatch launch/submit_jobs.bash scripts/launch_fitting.py --dataset arctic --exps keypoint_dense/init_single_frame_fitting_pca --seqs s01/laptop_use_03,s01/laptop_use_04,s01/microwave_grab_01,s01/microwave_use_01,s01/microwave_use_02\n",
      "Submitted batch job 53777405\n",
      "4: sbatch launch/submit_jobs.bash scripts/launch_fitting.py --dataset arctic --exps keypoint_dense/init_single_frame_fitting_pca --seqs s01/mixer_grab_01,s01/mixer_use_01,s01/mixer_use_02,s01/notebook_use_01,s01/notebook_use_02\n",
      "Submitted batch job 53777406\n",
      "5: sbatch launch/submit_jobs.bash scripts/launch_fitting.py --dataset arctic --exps keypoint_dense/init_single_frame_fitting_pca --seqs s01/phone_grab_01,s01/phone_use_01,s01/phone_use_02,s01/scissors_grab_01,s01/scissors_use_01\n",
      "Submitted batch job 53777407\n",
      "6: sbatch launch/submit_jobs.bash scripts/launch_fitting.py --dataset arctic --exps keypoint_dense/init_single_frame_fitting_pca --seqs s01/scissors_use_02,s01/waffleiron_grab_01,s01/waffleiron_use_01,s01/waffleiron_use_02,s02/box_grab_01\n",
      "Submitted batch job 53777408\n",
      "7: sbatch launch/submit_jobs.bash scripts/launch_fitting.py --dataset arctic --exps keypoint_dense/init_single_frame_fitting_pca --seqs s02/box_use_01,s02/box_use_02,s02/capsulemachine_grab_01,s02/capsulemachine_use_01,s02/capsulemachine_use_02\n",
      "Submitted batch job 53777409\n",
      "8: sbatch launch/submit_jobs.bash scripts/launch_fitting.py --dataset arctic --exps keypoint_dense/init_single_frame_fitting_pca --seqs s02/espressomachine_grab_01,s02/espressomachine_use_01,s02/espressomachine_use_02,s02/ketchup_grab_01,s02/ketchup_use_01\n",
      "Submitted batch job 53777410\n",
      "9: sbatch launch/submit_jobs.bash scripts/launch_fitting.py --dataset arctic --exps keypoint_dense/init_single_frame_fitting_pca --seqs s02/ketchup_use_02,s02/ketchup_use_03,s02/ketchup_use_04,s02/laptop_grab_01,s02/laptop_use_01\n",
      "Submitted batch job 53777411\n",
      "10: sbatch launch/submit_jobs.bash scripts/launch_fitting.py --dataset arctic --exps keypoint_dense/init_single_frame_fitting_pca --seqs s02/laptop_use_02,s02/microwave_grab_01,s02/microwave_use_01,s02/microwave_use_01_retake,s02/microwave_use_02\n",
      "Submitted batch job 53777412\n",
      "11: sbatch launch/submit_jobs.bash scripts/launch_fitting.py --dataset arctic --exps keypoint_dense/init_single_frame_fitting_pca --seqs s02/mixer_grab_01,s02/mixer_use_01,s02/mixer_use_02,s02/mixer_use_03,s02/mixer_use_04\n",
      "Submitted batch job 53777413\n",
      "12: sbatch launch/submit_jobs.bash scripts/launch_fitting.py --dataset arctic --exps keypoint_dense/init_single_frame_fitting_pca --seqs s02/notebook_use_01,s02/notebook_use_02,s02/phone_grab_01,s02/phone_use_01,s02/phone_use_02\n",
      "Submitted batch job 53777414\n",
      "13: sbatch launch/submit_jobs.bash scripts/launch_fitting.py --dataset arctic --exps keypoint_dense/init_single_frame_fitting_pca --seqs s02/scissors_grab_01,s02/scissors_use_01,s02/scissors_use_02,s02/waffleiron_grab_01,s02/waffleiron_use_01\n",
      "Submitted batch job 53777415\n",
      "14: sbatch launch/submit_jobs.bash scripts/launch_fitting.py --dataset arctic --exps keypoint_dense/init_single_frame_fitting_pca --seqs s02/waffleiron_use_02,s04/box_grab_01,s04/box_use_01,s04/box_use_02,s04/capsulemachine_grab_01\n",
      "Submitted batch job 53777416\n",
      "15: sbatch launch/submit_jobs.bash scripts/launch_fitting.py --dataset arctic --exps keypoint_dense/init_single_frame_fitting_pca --seqs s04/capsulemachine_use_01,s04/capsulemachine_use_02,s04/espressomachine_grab_01,s04/espressomachine_use_01_retake,s04/espressomachine_use_02\n",
      "Submitted batch job 53777417\n",
      "16: sbatch launch/submit_jobs.bash scripts/launch_fitting.py --dataset arctic --exps keypoint_dense/init_single_frame_fitting_pca --seqs s04/ketchup_grab_01,s04/ketchup_use_02,s04/laptop_grab_01,s04/laptop_use_01,s04/laptop_use_02\n",
      "Submitted batch job 53777418\n",
      "17: sbatch launch/submit_jobs.bash scripts/launch_fitting.py --dataset arctic --exps keypoint_dense/init_single_frame_fitting_pca --seqs s04/microwave_grab_01,s04/microwave_use_01,s04/microwave_use_02,s04/mixer_grab_01,s04/mixer_use_01\n",
      "Submitted batch job 53777419\n",
      "18: sbatch launch/submit_jobs.bash scripts/launch_fitting.py --dataset arctic --exps keypoint_dense/init_single_frame_fitting_pca --seqs s04/mixer_use_02,s04/notebook_grab_01,s04/notebook_use_01,s04/notebook_use_02,s04/phone_grab_01\n",
      "Submitted batch job 53777420\n",
      "19: sbatch launch/submit_jobs.bash scripts/launch_fitting.py --dataset arctic --exps keypoint_dense/init_single_frame_fitting_pca --seqs s04/phone_use_01,s04/phone_use_02,s04/scissors_grab_01,s04/scissors_use_01,s04/scissors_use_02\n",
      "Submitted batch job 53777421\n",
      "20: sbatch launch/submit_jobs.bash scripts/launch_fitting.py --dataset arctic --exps keypoint_dense/init_single_frame_fitting_pca --seqs s04/waffleiron_use_01,s04/waffleiron_use_02,s05/box_grab_01,s05/box_use_01,s05/box_use_02\n",
      "Submitted batch job 53777423\n",
      "21: sbatch launch/submit_jobs.bash scripts/launch_fitting.py --dataset arctic --exps keypoint_dense/init_single_frame_fitting_pca --seqs s05/capsulemachine_grab_01,s05/capsulemachine_use_01,s05/capsulemachine_use_02,s05/espressomachine_grab_01,s05/espressomachine_use_01\n",
      "Submitted batch job 53777424\n",
      "22: sbatch launch/submit_jobs.bash scripts/launch_fitting.py --dataset arctic --exps keypoint_dense/init_single_frame_fitting_pca --seqs s05/espressomachine_use_02,s05/ketchup_grab_01,s05/ketchup_use_01,s05/laptop_grab_01,s05/laptop_use_01\n",
      "Submitted batch job 53777425\n",
      "23: sbatch launch/submit_jobs.bash scripts/launch_fitting.py --dataset arctic --exps keypoint_dense/init_single_frame_fitting_pca --seqs s05/laptop_use_02,s05/microwave_grab_01,s05/microwave_use_01,s05/microwave_use_02,s05/mixer_grab_01\n",
      "Submitted batch job 53777426\n",
      "24: sbatch launch/submit_jobs.bash scripts/launch_fitting.py --dataset arctic --exps keypoint_dense/init_single_frame_fitting_pca --seqs s05/mixer_use_01,s05/mixer_use_02,s05/notebook_grab_01,s05/notebook_use_01,s05/notebook_use_02\n",
      "Submitted batch job 53777428\n",
      "25: sbatch launch/submit_jobs.bash scripts/launch_fitting.py --dataset arctic --exps keypoint_dense/init_single_frame_fitting_pca --seqs s05/phone_grab_01,s05/phone_use_01,s05/phone_use_02,s05/phone_use_03,s05/phone_use_04\n",
      "Submitted batch job 53777429\n",
      "26: sbatch launch/submit_jobs.bash scripts/launch_fitting.py --dataset arctic --exps keypoint_dense/init_single_frame_fitting_pca --seqs s05/scissors_grab_01,s05/scissors_use_01_retake,s05/scissors_use_02,s05/waffleiron_grab_01,s05/waffleiron_use_01\n",
      "Submitted batch job 53777430\n",
      "27: sbatch launch/submit_jobs.bash scripts/launch_fitting.py --dataset arctic --exps keypoint_dense/init_single_frame_fitting_pca --seqs s05/waffleiron_use_02,s06/box_use_01,s06/box_use_02,s06/box_use_03,s06/box_use_04\n",
      "Submitted batch job 53777431\n",
      "28: sbatch launch/submit_jobs.bash scripts/launch_fitting.py --dataset arctic --exps keypoint_dense/init_single_frame_fitting_pca --seqs s06/capsulemachine_grab_01,s06/capsulemachine_use_01,s06/capsulemachine_use_02,s06/espressomachine_grab_01,s06/espressomachine_use_01\n",
      "Submitted batch job 53777432\n",
      "29: sbatch launch/submit_jobs.bash scripts/launch_fitting.py --dataset arctic --exps keypoint_dense/init_single_frame_fitting_pca --seqs s06/espressomachine_use_02,s06/espressomachine_use_03,s06/espressomachine_use_04,s06/ketchup_grab_01_retake2,s06/ketchup_use_01\n",
      "Submitted batch job 53777433\n",
      "30: sbatch launch/submit_jobs.bash scripts/launch_fitting.py --dataset arctic --exps keypoint_dense/init_single_frame_fitting_pca --seqs s06/ketchup_use_02,s06/laptop_use_01_retake,s06/laptop_use_02_retake,s06/microwave_grab_01,s06/microwave_use_01\n",
      "Submitted batch job 53777434\n",
      "31: sbatch launch/submit_jobs.bash scripts/launch_fitting.py --dataset arctic --exps keypoint_dense/init_single_frame_fitting_pca --seqs s06/microwave_use_02,s06/mixer_grab_01,s06/mixer_use_01,s06/mixer_use_02,s06/notebook_grab_01\n",
      "Submitted batch job 53777435\n",
      "32: sbatch launch/submit_jobs.bash scripts/launch_fitting.py --dataset arctic --exps keypoint_dense/init_single_frame_fitting_pca --seqs s06/notebook_use_01,s06/notebook_use_02,s06/phone_grab_01,s06/phone_use_01,s06/phone_use_02\n",
      "Submitted batch job 53777437\n",
      "33: sbatch launch/submit_jobs.bash scripts/launch_fitting.py --dataset arctic --exps keypoint_dense/init_single_frame_fitting_pca --seqs s06/scissors_grab_01,s06/scissors_use_01,s06/waffleiron_grab_01_retake,s06/waffleiron_use_01,s06/waffleiron_use_02\n",
      "Submitted batch job 53777438\n",
      "34: sbatch launch/submit_jobs.bash scripts/launch_fitting.py --dataset arctic --exps keypoint_dense/init_single_frame_fitting_pca --seqs s06/waffleiron_use_03,s06/waffleiron_use_04,s07/box_grab_01,s07/box_use_01,s07/box_use_02\n",
      "Submitted batch job 53777450\n",
      "35: sbatch launch/submit_jobs.bash scripts/launch_fitting.py --dataset arctic --exps keypoint_dense/init_single_frame_fitting_pca --seqs s07/capsulemachine_use_01,s07/capsulemachine_use_02,s07/espressomachine_grab_01,s07/espressomachine_use_01,s07/espressomachine_use_02\n",
      "Submitted batch job 53777453\n",
      "36: sbatch launch/submit_jobs.bash scripts/launch_fitting.py --dataset arctic --exps keypoint_dense/init_single_frame_fitting_pca --seqs s07/ketchup_grab_01,s07/ketchup_use_02,s07/laptop_grab_01,s07/laptop_use_01,s07/laptop_use_02\n",
      "Submitted batch job 53777455\n",
      "37: sbatch launch/submit_jobs.bash scripts/launch_fitting.py --dataset arctic --exps keypoint_dense/init_single_frame_fitting_pca --seqs s07/microwave_grab_01,s07/microwave_use_01,s07/microwave_use_02,s07/mixer_grab_01_retake,s07/mixer_use_01\n",
      "Submitted batch job 53777456\n",
      "38: sbatch launch/submit_jobs.bash scripts/launch_fitting.py --dataset arctic --exps keypoint_dense/init_single_frame_fitting_pca --seqs s07/notebook_use_01,s07/notebook_use_02,s07/phone_grab_01,s07/phone_use_01,s07/phone_use_02\n"
     ]
    }
   ],
   "source": [
    "exps = [\"keypoint_dense/init_single_frame_fitting_pca\"] \n",
    "common_cmd = [\n",
    "    \"sbatch\",\n",
    "    \"launch/submit_jobs.bash\",\n",
    "    \"scripts/launch_fitting.py\",\n",
    "    \"--dataset\",\n",
    "    \"arctic\",\n",
    "    \"--exps\",\n",
    "    \",\".join(exps)\n",
    "]\n",
    "\n",
    "cmds = []\n",
    "for job in range(num_jobs):\n",
    "    seqs_job = \",\".join(seqs[seq_offsets[job] : seq_offsets[job + 1]])\n",
    "    cmd = common_cmd + [\"--seqs\", seqs_job]\n",
    "    cmds.append(\" \".join(cmd))     \n",
    "    print(f\"{job}: {\" \".join(cmd)}\")\n",
    "    subprocess.run(cmd, cwd=\"..\")"
   ]
  },
  {
   "cell_type": "markdown",
   "id": "c7d822f9",
   "metadata": {},
   "source": [
    "### Check Fitting"
   ]
  },
  {
   "cell_type": "code",
   "execution_count": null,
   "id": "273c92b5",
   "metadata": {},
   "outputs": [],
   "source": []
  }
 ],
 "metadata": {
  "kernelspec": {
   "display_name": "3po",
   "language": "python",
   "name": "python3"
  },
  "language_info": {
   "codemirror_mode": {
    "name": "ipython",
    "version": 3
   },
   "file_extension": ".py",
   "mimetype": "text/x-python",
   "name": "python",
   "nbconvert_exporter": "python",
   "pygments_lexer": "ipython3",
   "version": "3.12.9"
  }
 },
 "nbformat": 4,
 "nbformat_minor": 5
}
