{
 "cells": [
  {
   "cell_type": "code",
   "execution_count": 1,
   "id": "2a47c402",
   "metadata": {},
   "outputs": [],
   "source": [
    "import os\n",
    "import subprocess\n",
    "from typing import List\n",
    "import numpy as np\n",
    "from tqdm import tqdm\n",
    "import json\n",
    "import random"
   ]
  },
  {
   "cell_type": "code",
   "execution_count": 2,
   "id": "c4c12960",
   "metadata": {},
   "outputs": [],
   "source": [
    "data_dir = \"/large_experiments/3po/data/arctic/arctic/data/arctic_data/data\"\n",
    "save_dir = \"/private/home/taoshaf/data/arctic\"\n",
    "mocap_dir = os.path.join(data_dir, \"mocap_npy\")\n",
    "seqs = [\n",
    "    \"/\".join(seq.split(\".npy\")[0].split(\"_\", 1))\n",
    "    for seq in sorted(os.listdir(mocap_dir))\n",
    "]"
   ]
  },
  {
   "cell_type": "code",
   "execution_count": 3,
   "id": "41df8f5c",
   "metadata": {},
   "outputs": [],
   "source": [
    "dataset = \"arctic\"\n",
    "data_dir = os.path.join(\"/private/home/taoshaf/data/\", dataset)\n",
    "seqs = [\n",
    "    seq\n",
    "    for seq in seqs\n",
    "    if os.path.exists(os.path.join(data_dir, seq, \"keypoints\", \"vitpose\"))\n",
    "]\n",
    "\n",
    "rescale = 1\n",
    "keypoint = \"dense\""
   ]
  },
  {
   "cell_type": "code",
   "execution_count": 4,
   "id": "71ec1357",
   "metadata": {},
   "outputs": [],
   "source": [
    "seqs = [\n",
    "    seq\n",
    "    for seq in seqs\n",
    "    if os.path.exists(\n",
    "        os.path.join(\n",
    "            data_dir, seq, \"results\", \"proto\", keypoint, \"init_single_frame_results.pkl\"\n",
    "        )\n",
    "    )\n",
    "]"
   ]
  },
  {
   "cell_type": "code",
   "execution_count": 5,
   "id": "86c1b2c7",
   "metadata": {},
   "outputs": [],
   "source": [
    "num_seqs = len(seqs)\n",
    "num_jobs = min(64, num_seqs)\n",
    "\n",
    "num_seqs_per_job = num_seqs // num_jobs\n",
    "seqs_for_jobs = [\n",
    "    num_seqs_per_job + (job < (num_seqs - num_seqs_per_job * num_jobs))\n",
    "    for job in range(num_jobs)\n",
    "]\n",
    "seq_offsets = np.cumsum([0] + seqs_for_jobs)\n",
    "\n",
    "random.shuffle(seqs)"
   ]
  },
  {
   "cell_type": "code",
   "execution_count": 8,
   "id": "9583e42e",
   "metadata": {},
   "outputs": [],
   "source": [
    "anno_dir = \"/private/home/taoshaf/data/annotation/arctic/annos/proto\"\n",
    "common_cmd = [\n",
    "    \"sbatch\",\n",
    "    \"launch/submit_jobs.bash\",\n",
    "    \"scripts/annotate_proto.py\",\n",
    "    \"--num_groups\",\n",
    "    \"4\",\n",
    "    \"--cams\",\n",
    "    \"0,1,2,3,4,5,6,7\",\n",
    "    \"--rescale\",\n",
    "    f\"{rescale}\",\n",
    "    \"--keypoint\",\n",
    "    keypoint,\n",
    "    \"--anno_dir\",\n",
    "    os.path.join(anno_dir, \"full\"),\n",
    "]"
   ]
  },
  {
   "cell_type": "code",
   "execution_count": null,
   "id": "577ae9bc",
   "metadata": {},
   "outputs": [
    {
     "name": "stdout",
     "output_type": "stream",
     "text": [
      "sbatch launch/submit_jobs.bash scripts/annotate_proto.py --num_groups 4 --cams 0,1,2,3,4,5,6,7 --rescale 1 --keypoint dense --anno_dir /private/home/taoshaf/data/annotation/arctic/annos/proto/full --seqs s06/box_use_01,s08/waffleiron_use_04,s09/ketchup_use_01,s01/box_use_02,s01/capsulemachine_use_02\n",
      "Submitted batch job 54001776\n",
      "sbatch launch/submit_jobs.bash scripts/annotate_proto.py --num_groups 4 --cams 0,1,2,3,4,5,6,7 --rescale 1 --keypoint dense --anno_dir /private/home/taoshaf/data/annotation/arctic/annos/proto/full --seqs s02/phone_grab_01,s08/waffleiron_use_01,s02/capsulemachine_use_01,s10/box_use_02,s04/mixer_use_01\n",
      "Submitted batch job 54001777\n",
      "sbatch launch/submit_jobs.bash scripts/annotate_proto.py --num_groups 4 --cams 0,1,2,3,4,5,6,7 --rescale 1 --keypoint dense --anno_dir /private/home/taoshaf/data/annotation/arctic/annos/proto/full --seqs s07/waffleiron_use_02,s04/waffleiron_use_02,s01/espressomachine_use_01,s10/laptop_use_02,s08/box_use_02\n",
      "Submitted batch job 54001778\n",
      "sbatch launch/submit_jobs.bash scripts/annotate_proto.py --num_groups 4 --cams 0,1,2,3,4,5,6,7 --rescale 1 --keypoint dense --anno_dir /private/home/taoshaf/data/annotation/arctic/annos/proto/full --seqs s02/espressomachine_use_02,s10/box_use_01,s02/phone_use_01,s10/phone_use_01_retake,s08/phone_use_03\n",
      "Submitted batch job 54001779\n",
      "sbatch launch/submit_jobs.bash scripts/annotate_proto.py --num_groups 4 --cams 0,1,2,3,4,5,6,7 --rescale 1 --keypoint dense --anno_dir /private/home/taoshaf/data/annotation/arctic/annos/proto/full --seqs s08/waffleiron_use_02,s02/laptop_use_01,s10/ketchup_use_01,s07/ketchup_use_02,s09/ketchup_use_02\n",
      "Submitted batch job 54001780\n",
      "sbatch launch/submit_jobs.bash scripts/annotate_proto.py --num_groups 4 --cams 0,1,2,3,4,5,6,7 --rescale 1 --keypoint dense --anno_dir /private/home/taoshaf/data/annotation/arctic/annos/proto/full --seqs s07/microwave_use_02,s01/phone_use_01,s02/scissors_use_02,s04/box_grab_01,s01/laptop_use_01\n",
      "Submitted batch job 54001781\n",
      "sbatch launch/submit_jobs.bash scripts/annotate_proto.py --num_groups 4 --cams 0,1,2,3,4,5,6,7 --rescale 1 --keypoint dense --anno_dir /private/home/taoshaf/data/annotation/arctic/annos/proto/full --seqs s02/laptop_use_02,s04/laptop_use_02,s02/mixer_use_04,s04/notebook_grab_01,s09/mixer_use_03\n",
      "Submitted batch job 54001782\n",
      "sbatch launch/submit_jobs.bash scripts/annotate_proto.py --num_groups 4 --cams 0,1,2,3,4,5,6,7 --rescale 1 --keypoint dense --anno_dir /private/home/taoshaf/data/annotation/arctic/annos/proto/full --seqs s04/ketchup_grab_01,s04/ketchup_use_02,s08/mixer_use_01,s04/microwave_use_01,s02/ketchup_use_01\n",
      "Submitted batch job 54001783\n",
      "sbatch launch/submit_jobs.bash scripts/annotate_proto.py --num_groups 4 --cams 0,1,2,3,4,5,6,7 --rescale 1 --keypoint dense --anno_dir /private/home/taoshaf/data/annotation/arctic/annos/proto/full --seqs s07/laptop_use_01,s02/espressomachine_use_01,s01/laptop_use_04,s07/notebook_use_02,s09/waffleiron_use_04\n",
      "Submitted batch job 54001784\n",
      "sbatch launch/submit_jobs.bash scripts/annotate_proto.py --num_groups 4 --cams 0,1,2,3,4,5,6,7 --rescale 1 --keypoint dense --anno_dir /private/home/taoshaf/data/annotation/arctic/annos/proto/full --seqs s07/capsulemachine_use_01,s01/notebook_use_02,s07/box_use_02,s01/microwave_use_01,s09/microwave_use_02\n",
      "Submitted batch job 54001785\n",
      "sbatch launch/submit_jobs.bash scripts/annotate_proto.py --num_groups 4 --cams 0,1,2,3,4,5,6,7 --rescale 1 --keypoint dense --anno_dir /private/home/taoshaf/data/annotation/arctic/annos/proto/full --seqs s02/capsulemachine_grab_01,s08/capsulemachine_use_02,s07/espressomachine_grab_01,s04/notebook_use_01,s01/mixer_use_02\n",
      "Submitted batch job 54001786\n",
      "sbatch launch/submit_jobs.bash scripts/annotate_proto.py --num_groups 4 --cams 0,1,2,3,4,5,6,7 --rescale 1 --keypoint dense --anno_dir /private/home/taoshaf/data/annotation/arctic/annos/proto/full --seqs s08/box_use_03,s06/ketchup_grab_01_retake2,s02/mixer_use_03,s02/box_grab_01\n",
      "Submitted batch job 54001787\n",
      "sbatch launch/submit_jobs.bash scripts/annotate_proto.py --num_groups 4 --cams 0,1,2,3,4,5,6,7 --rescale 1 --keypoint dense --anno_dir /private/home/taoshaf/data/annotation/arctic/annos/proto/full --seqs s06/microwave_grab_01,s10/notebook_use_01,s10/capsulemachine_use_01,s08/capsulemachine_use_01\n",
      "Submitted batch job 54001788\n",
      "sbatch launch/submit_jobs.bash scripts/annotate_proto.py --num_groups 4 --cams 0,1,2,3,4,5,6,7 --rescale 1 --keypoint dense --anno_dir /private/home/taoshaf/data/annotation/arctic/annos/proto/full --seqs s08/scissors_use_03,s06/waffleiron_use_04,s08/laptop_use_02,s07/mixer_use_01\n",
      "Submitted batch job 54001789\n",
      "sbatch launch/submit_jobs.bash scripts/annotate_proto.py --num_groups 4 --cams 0,1,2,3,4,5,6,7 --rescale 1 --keypoint dense --anno_dir /private/home/taoshaf/data/annotation/arctic/annos/proto/full --seqs s02/mixer_use_01,s01/capsulemachine_grab_01,s08/microwave_use_03,s01/notebook_use_01\n",
      "Submitted batch job 54001790\n",
      "sbatch launch/submit_jobs.bash scripts/annotate_proto.py --num_groups 4 --cams 0,1,2,3,4,5,6,7 --rescale 1 --keypoint dense --anno_dir /private/home/taoshaf/data/annotation/arctic/annos/proto/full --seqs s09/laptop_use_04,s08/notebook_use_04,s04/notebook_use_02,s04/microwave_grab_01\n",
      "Submitted batch job 54001791\n",
      "sbatch launch/submit_jobs.bash scripts/annotate_proto.py --num_groups 4 --cams 0,1,2,3,4,5,6,7 --rescale 1 --keypoint dense --anno_dir /private/home/taoshaf/data/annotation/arctic/annos/proto/full --seqs s02/ketchup_use_04,s07/capsulemachine_use_02,s04/waffleiron_use_01,s04/mixer_grab_01\n",
      "Submitted batch job 54001792\n",
      "sbatch launch/submit_jobs.bash scripts/annotate_proto.py --num_groups 4 --cams 0,1,2,3,4,5,6,7 --rescale 1 --keypoint dense --anno_dir /private/home/taoshaf/data/annotation/arctic/annos/proto/full --seqs s02/box_use_02,s02/laptop_grab_01,s04/phone_use_02,s06/notebook_grab_01\n",
      "Submitted batch job 54001793\n",
      "sbatch launch/submit_jobs.bash scripts/annotate_proto.py --num_groups 4 --cams 0,1,2,3,4,5,6,7 --rescale 1 --keypoint dense --anno_dir /private/home/taoshaf/data/annotation/arctic/annos/proto/full --seqs s06/espressomachine_use_02,s09/espressomachine_use_01,s10/phone_grab_01,s08/ketchup_use_04\n",
      "Submitted batch job 54001794\n",
      "sbatch launch/submit_jobs.bash scripts/annotate_proto.py --num_groups 4 --cams 0,1,2,3,4,5,6,7 --rescale 1 --keypoint dense --anno_dir /private/home/taoshaf/data/annotation/arctic/annos/proto/full --seqs s06/waffleiron_use_02,s01/box_grab_01,s09/notebook_use_03,s06/espressomachine_use_04\n",
      "Submitted batch job 54001795\n",
      "sbatch launch/submit_jobs.bash scripts/annotate_proto.py --num_groups 4 --cams 0,1,2,3,4,5,6,7 --rescale 1 --keypoint dense --anno_dir /private/home/taoshaf/data/annotation/arctic/annos/proto/full --seqs s10/ketchup_use_02,s09/espressomachine_use_02,s10/mixer_use_02,s04/capsulemachine_use_01\n",
      "Submitted batch job 54001796\n",
      "sbatch launch/submit_jobs.bash scripts/annotate_proto.py --num_groups 4 --cams 0,1,2,3,4,5,6,7 --rescale 1 --keypoint dense --anno_dir /private/home/taoshaf/data/annotation/arctic/annos/proto/full --seqs s06/waffleiron_use_03,s04/mixer_use_02,s06/capsulemachine_use_02,s09/scissors_use_02\n",
      "Submitted batch job 54001797\n",
      "sbatch launch/submit_jobs.bash scripts/annotate_proto.py --num_groups 4 --cams 0,1,2,3,4,5,6,7 --rescale 1 --keypoint dense --anno_dir /private/home/taoshaf/data/annotation/arctic/annos/proto/full --seqs s04/box_use_02,s01/waffleiron_use_01,s08/notebook_use_01,s07/scissors_use_01\n",
      "Submitted batch job 54001798\n",
      "sbatch launch/submit_jobs.bash scripts/annotate_proto.py --num_groups 4 --cams 0,1,2,3,4,5,6,7 --rescale 1 --keypoint dense --anno_dir /private/home/taoshaf/data/annotation/arctic/annos/proto/full --seqs s06/scissors_grab_01,s01/ketchup_grab_01,s06/laptop_use_01_retake,s02/microwave_use_01_retake\n",
      "Submitted batch job 54001799\n",
      "sbatch launch/submit_jobs.bash scripts/annotate_proto.py --num_groups 4 --cams 0,1,2,3,4,5,6,7 --rescale 1 --keypoint dense --anno_dir /private/home/taoshaf/data/annotation/arctic/annos/proto/full --seqs s09/espressomachine_use_04,s01/ketchup_use_02,s09/capsulemachine_use_01,s09/ketchup_use_03\n",
      "Submitted batch job 54001800\n",
      "sbatch launch/submit_jobs.bash scripts/annotate_proto.py --num_groups 4 --cams 0,1,2,3,4,5,6,7 --rescale 1 --keypoint dense --anno_dir /private/home/taoshaf/data/annotation/arctic/annos/proto/full --seqs s07/box_use_01,s04/capsulemachine_grab_01,s09/capsulemachine_use_03,s01/espressomachine_grab_01\n",
      "Submitted batch job 54001801\n",
      "sbatch launch/submit_jobs.bash scripts/annotate_proto.py --num_groups 4 --cams 0,1,2,3,4,5,6,7 --rescale 1 --keypoint dense --anno_dir /private/home/taoshaf/data/annotation/arctic/annos/proto/full --seqs s06/scissors_use_01,s06/phone_use_02,s06/notebook_use_02,s02/box_use_01\n",
      "Submitted batch job 54001802\n",
      "sbatch launch/submit_jobs.bash scripts/annotate_proto.py --num_groups 4 --cams 0,1,2,3,4,5,6,7 --rescale 1 --keypoint dense --anno_dir /private/home/taoshaf/data/annotation/arctic/annos/proto/full --seqs s06/waffleiron_grab_01_retake,s10/waffleiron_use_02,s08/phone_use_01,s08/scissors_use_04\n",
      "Submitted batch job 54001803\n",
      "sbatch launch/submit_jobs.bash scripts/annotate_proto.py --num_groups 4 --cams 0,1,2,3,4,5,6,7 --rescale 1 --keypoint dense --anno_dir /private/home/taoshaf/data/annotation/arctic/annos/proto/full --seqs s07/phone_use_01,s09/capsulemachine_use_04,s06/notebook_use_01,s04/laptop_grab_01\n",
      "Submitted batch job 54001804\n",
      "sbatch launch/submit_jobs.bash scripts/annotate_proto.py --num_groups 4 --cams 0,1,2,3,4,5,6,7 --rescale 1 --keypoint dense --anno_dir /private/home/taoshaf/data/annotation/arctic/annos/proto/full --seqs s02/scissors_use_01,s09/waffleiron_use_01,s07/scissors_use_02,s06/capsulemachine_use_01\n",
      "Submitted batch job 54001805\n",
      "sbatch launch/submit_jobs.bash scripts/annotate_proto.py --num_groups 4 --cams 0,1,2,3,4,5,6,7 --rescale 1 --keypoint dense --anno_dir /private/home/taoshaf/data/annotation/arctic/annos/proto/full --seqs s09/mixer_use_02,s02/notebook_use_01,s07/laptop_use_02,s01/microwave_grab_01\n",
      "Submitted batch job 54001806\n",
      "sbatch launch/submit_jobs.bash scripts/annotate_proto.py --num_groups 4 --cams 0,1,2,3,4,5,6,7 --rescale 1 --keypoint dense --anno_dir /private/home/taoshaf/data/annotation/arctic/annos/proto/full --seqs s08/capsulemachine_use_04,s04/scissors_use_02,s10/espressomachine_use_02,s08/laptop_use_04\n",
      "Submitted batch job 54001807\n",
      "sbatch launch/submit_jobs.bash scripts/annotate_proto.py --num_groups 4 --cams 0,1,2,3,4,5,6,7 --rescale 1 --keypoint dense --anno_dir /private/home/taoshaf/data/annotation/arctic/annos/proto/full --seqs s02/mixer_use_02,s07/espressomachine_use_01,s09/notebook_use_01,s01/ketchup_use_01\n",
      "Submitted batch job 54001808\n",
      "sbatch launch/submit_jobs.bash scripts/annotate_proto.py --num_groups 4 --cams 0,1,2,3,4,5,6,7 --rescale 1 --keypoint dense --anno_dir /private/home/taoshaf/data/annotation/arctic/annos/proto/full --seqs s04/phone_grab_01,s08/ketchup_use_02,s06/box_use_02,s08/box_use_04\n",
      "Submitted batch job 54001809\n",
      "sbatch launch/submit_jobs.bash scripts/annotate_proto.py --num_groups 4 --cams 0,1,2,3,4,5,6,7 --rescale 1 --keypoint dense --anno_dir /private/home/taoshaf/data/annotation/arctic/annos/proto/full --seqs s04/espressomachine_use_02,s08/espressomachine_use_01,s10/mixer_use_01,s04/capsulemachine_use_02\n",
      "Submitted batch job 54001810\n",
      "sbatch launch/submit_jobs.bash scripts/annotate_proto.py --num_groups 4 --cams 0,1,2,3,4,5,6,7 --rescale 1 --keypoint dense --anno_dir /private/home/taoshaf/data/annotation/arctic/annos/proto/full --seqs s01/mixer_grab_01,s01/espressomachine_use_02,s09/scissors_use_04,s04/espressomachine_grab_01\n",
      "Submitted batch job 54001811\n",
      "sbatch launch/submit_jobs.bash scripts/annotate_proto.py --num_groups 4 --cams 0,1,2,3,4,5,6,7 --rescale 1 --keypoint dense --anno_dir /private/home/taoshaf/data/annotation/arctic/annos/proto/full --seqs s09/ketchup_use_04,s08/espressomachine_use_03,s01/laptop_grab_01,s08/mixer_use_04\n",
      "Submitted batch job 54001812\n",
      "sbatch launch/submit_jobs.bash scripts/annotate_proto.py --num_groups 4 --cams 0,1,2,3,4,5,6,7 --rescale 1 --keypoint dense --anno_dir /private/home/taoshaf/data/annotation/arctic/annos/proto/full --seqs s06/capsulemachine_grab_01,s06/phone_grab_01,s07/espressomachine_use_02,s02/ketchup_use_02\n",
      "Submitted batch job 54001813\n",
      "sbatch launch/submit_jobs.bash scripts/annotate_proto.py --num_groups 4 --cams 0,1,2,3,4,5,6,7 --rescale 1 --keypoint dense --anno_dir /private/home/taoshaf/data/annotation/arctic/annos/proto/full --seqs s09/waffleiron_use_03,s09/laptop_use_03,s10/ketchup_grab_01,s09/notebook_use_02\n"
     ]
    }
   ],
   "source": [
    "for job in range(0, num_jobs):\n",
    "    seqs_job = \",\".join(seqs[seq_offsets[job] : seq_offsets[job + 1]])\n",
    "    cmd = common_cmd + [\"--seqs\", seqs_job]\n",
    "    print(\" \".join(cmd))\n",
    "    subprocess.run(cmd, cwd=\"..\")"
   ]
  },
  {
   "cell_type": "code",
   "execution_count": null,
   "id": "4f6fbb8b",
   "metadata": {},
   "outputs": [],
   "source": [
    "dataset = \"egoexo4d\"\n",
    "data_dir = os.path.join(\"/private/home/taoshaf/data/\", dataset)\n",
    "seqs = sorted(os.listdir(data_dir))\n",
    "seqs = [\n",
    "    seq\n",
    "    for seq in seqs\n",
    "    if os.path.exists(os.path.join(data_dir, seq, \"keypoints\", \"vitpose\"))\n",
    "]\n",
    "\n",
    "for seq in seqs:\n",
    "    if os.path.exists(os.path.join(data_dir, seq, \"cameras.txt\")):\n",
    "        print(seq)"
   ]
  },
  {
   "cell_type": "code",
   "execution_count": 5,
   "id": "f137ddc8",
   "metadata": {},
   "outputs": [],
   "source": [
    "import pandas as pd\n",
    "import os\n",
    "seq = \"uniandes_dance_008_45\"\n",
    "results = pd.read_pickle(os.path.join(data_dir, seq, \"results\", \"final_atlas\", \"dense\", \"single_frame_results.pkl\"))"
   ]
  },
  {
   "cell_type": "code",
   "execution_count": 6,
   "id": "5f8304e0",
   "metadata": {},
   "outputs": [
    {
     "data": {
      "text/plain": [
       "dict_keys(['all', 'cam01', 'cam02', 'cam03', 'cam04'])"
      ]
     },
     "execution_count": 6,
     "metadata": {},
     "output_type": "execute_result"
    }
   ],
   "source": [
    "results.keys()"
   ]
  }
 ],
 "metadata": {
  "kernelspec": {
   "display_name": "3po",
   "language": "python",
   "name": "python3"
  },
  "language_info": {
   "codemirror_mode": {
    "name": "ipython",
    "version": 3
   },
   "file_extension": ".py",
   "mimetype": "text/x-python",
   "name": "python",
   "nbconvert_exporter": "python",
   "pygments_lexer": "ipython3",
   "version": "3.12.11"
  }
 },
 "nbformat": 4,
 "nbformat_minor": 5
}
