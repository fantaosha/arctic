{
 "cells": [
  {
   "cell_type": "code",
   "execution_count": 1,
   "id": "2a47c402",
   "metadata": {},
   "outputs": [],
   "source": [
    "import os\n",
    "import subprocess\n",
    "from typing import List\n",
    "import numpy as np\n",
    "from tqdm import tqdm\n",
    "import json\n",
    "import random"
   ]
  },
  {
   "cell_type": "code",
   "execution_count": 2,
   "id": "c4c12960",
   "metadata": {},
   "outputs": [],
   "source": [
    "data_dir = \"/large_experiments/3po/data/arctic/arctic/data/arctic_data/data\"\n",
    "save_dir = \"/private/home/taoshaf/data/arctic\"\n",
    "mocap_dir = os.path.join(data_dir, \"mocap_npy\")\n",
    "seqs = [\n",
    "    \"/\".join(seq.split(\".npy\")[0].split(\"_\", 1))\n",
    "    for seq in sorted(os.listdir(mocap_dir))\n",
    "]"
   ]
  },
  {
   "cell_type": "code",
   "execution_count": 3,
   "id": "41df8f5c",
   "metadata": {},
   "outputs": [],
   "source": [
    "dataset = \"arctic\"\n",
    "data_dir = os.path.join(\"/private/home/taoshaf/data/\", dataset)\n",
    "seqs = [\n",
    "    seq\n",
    "    for seq in seqs\n",
    "    if os.path.exists(os.path.join(data_dir, seq, \"keypoints\", \"vitpose\"))\n",
    "]\n",
    "\n",
    "rescale = 1\n",
    "keypoint = \"sparse\""
   ]
  },
  {
   "cell_type": "code",
   "execution_count": 4,
   "id": "71ec1357",
   "metadata": {},
   "outputs": [],
   "source": [
    "seqs = [\n",
    "    seq\n",
    "    for seq in seqs\n",
    "    if os.path.exists(\n",
    "        os.path.join(\n",
    "            data_dir, seq, \"results\", \"final_atlas\", keypoint, \"init_single_frame_results.pkl\"\n",
    "        )\n",
    "    )\n",
    "]"
   ]
  },
  {
   "cell_type": "code",
   "execution_count": 5,
   "id": "86c1b2c7",
   "metadata": {},
   "outputs": [],
   "source": [
    "num_seqs = len(seqs)\n",
    "num_jobs = min(64, num_seqs)\n",
    "\n",
    "num_seqs_per_job = num_seqs // num_jobs\n",
    "seqs_for_jobs = [\n",
    "    num_seqs_per_job + (job < (num_seqs - num_seqs_per_job * num_jobs))\n",
    "    for job in range(num_jobs)\n",
    "]\n",
    "seq_offsets = np.cumsum([0] + seqs_for_jobs)\n",
    "\n",
    "random.shuffle(seqs)"
   ]
  },
  {
   "cell_type": "code",
   "execution_count": 6,
   "id": "9583e42e",
   "metadata": {},
   "outputs": [],
   "source": [
    "anno_dir = \"/private/home/taoshaf/data/annotation/arctic/annos\"\n",
    "common_cmd = [\n",
    "    \"sbatch\",\n",
    "    \"launch/submit_jobs.bash\",\n",
    "    \"scripts/annotate_sparse.py\",\n",
    "    \"--num_groups\",\n",
    "    \"4\",\n",
    "    \"--cams\",\n",
    "    \"2\",\n",
    "    \"--rescale\",\n",
    "    f\"{rescale}\",\n",
    "    \"--keypoint\",\n",
    "    keypoint,\n",
    "    \"--anno_dir\",\n",
    "    os.path.join(anno_dir, \"full\"),\n",
    "]"
   ]
  },
  {
   "cell_type": "code",
   "execution_count": 7,
   "id": "577ae9bc",
   "metadata": {},
   "outputs": [
    {
     "name": "stdout",
     "output_type": "stream",
     "text": [
      "sbatch launch/submit_jobs.bash scripts/annotate_sparse.py --num_groups 4 --cams 2 --rescale 1 --keypoint sparse --anno_dir /private/home/taoshaf/data/annotation/arctic/annos/full --seqs s07/laptop_grab_01,s01/capsulemachine_use_01,s01/notebook_use_02,s05/notebook_use_02,s06/mixer_use_01\n",
      "Submitted batch job 52919031\n",
      "sbatch launch/submit_jobs.bash scripts/annotate_sparse.py --num_groups 4 --cams 2 --rescale 1 --keypoint sparse --anno_dir /private/home/taoshaf/data/annotation/arctic/annos/full --seqs s06/phone_use_02,s04/phone_use_01,s04/waffleiron_use_02,s04/microwave_grab_01,s04/notebook_use_01\n"
     ]
    },
    {
     "name": "stdout",
     "output_type": "stream",
     "text": [
      "Submitted batch job 52919032\n",
      "sbatch launch/submit_jobs.bash scripts/annotate_sparse.py --num_groups 4 --cams 2 --rescale 1 --keypoint sparse --anno_dir /private/home/taoshaf/data/annotation/arctic/annos/full --seqs s05/box_grab_01,s05/mixer_use_02,s04/waffleiron_use_01,s08/ketchup_use_03,s09/waffleiron_use_01\n",
      "Submitted batch job 52919033\n",
      "sbatch launch/submit_jobs.bash scripts/annotate_sparse.py --num_groups 4 --cams 2 --rescale 1 --keypoint sparse --anno_dir /private/home/taoshaf/data/annotation/arctic/annos/full --seqs s10/box_use_02,s01/laptop_use_04,s01/mixer_grab_01,s06/scissors_grab_01,s02/box_grab_01\n",
      "Submitted batch job 52919034\n",
      "sbatch launch/submit_jobs.bash scripts/annotate_sparse.py --num_groups 4 --cams 2 --rescale 1 --keypoint sparse --anno_dir /private/home/taoshaf/data/annotation/arctic/annos/full --seqs s08/capsulemachine_use_03,s10/phone_use_02,s05/laptop_use_01,s09/capsulemachine_use_02,s01/espressomachine_grab_01\n",
      "Submitted batch job 52919035\n",
      "sbatch launch/submit_jobs.bash scripts/annotate_sparse.py --num_groups 4 --cams 2 --rescale 1 --keypoint sparse --anno_dir /private/home/taoshaf/data/annotation/arctic/annos/full --seqs s01/espressomachine_use_01,s06/ketchup_use_01,s10/mixer_use_01,s05/laptop_use_02,s05/ketchup_use_01\n",
      "Submitted batch job 52919036\n",
      "sbatch launch/submit_jobs.bash scripts/annotate_sparse.py --num_groups 4 --cams 2 --rescale 1 --keypoint sparse --anno_dir /private/home/taoshaf/data/annotation/arctic/annos/full --seqs s09/microwave_use_03,s06/espressomachine_use_04,s08/capsulemachine_use_02,s09/mixer_use_04,s08/scissors_use_01\n",
      "Submitted batch job 52919037\n",
      "sbatch launch/submit_jobs.bash scripts/annotate_sparse.py --num_groups 4 --cams 2 --rescale 1 --keypoint sparse --anno_dir /private/home/taoshaf/data/annotation/arctic/annos/full --seqs s07/mixer_grab_01_retake,s08/waffleiron_use_02,s07/phone_use_01,s04/scissors_use_02,s07/microwave_use_02\n",
      "Submitted batch job 52919038\n",
      "sbatch launch/submit_jobs.bash scripts/annotate_sparse.py --num_groups 4 --cams 2 --rescale 1 --keypoint sparse --anno_dir /private/home/taoshaf/data/annotation/arctic/annos/full --seqs s04/ketchup_use_02,s09/waffleiron_use_04,s07/box_use_02,s09/notebook_use_02,s10/laptop_use_01\n",
      "Submitted batch job 52919039\n",
      "sbatch launch/submit_jobs.bash scripts/annotate_sparse.py --num_groups 4 --cams 2 --rescale 1 --keypoint sparse --anno_dir /private/home/taoshaf/data/annotation/arctic/annos/full --seqs s05/espressomachine_use_01,s07/espressomachine_grab_01,s07/phone_use_02,s02/microwave_use_01_retake,s05/espressomachine_use_02\n",
      "Submitted batch job 52919040\n",
      "sbatch launch/submit_jobs.bash scripts/annotate_sparse.py --num_groups 4 --cams 2 --rescale 1 --keypoint sparse --anno_dir /private/home/taoshaf/data/annotation/arctic/annos/full --seqs s06/ketchup_use_02,s09/scissors_use_04,s02/phone_use_01,s06/laptop_use_01_retake,s09/mixer_use_03\n",
      "Submitted batch job 52919041\n",
      "sbatch launch/submit_jobs.bash scripts/annotate_sparse.py --num_groups 4 --cams 2 --rescale 1 --keypoint sparse --anno_dir /private/home/taoshaf/data/annotation/arctic/annos/full --seqs s05/waffleiron_grab_01,s09/laptop_use_02,s04/ketchup_grab_01,s08/laptop_use_03,s08/waffleiron_use_03\n",
      "Submitted batch job 52919042\n",
      "sbatch launch/submit_jobs.bash scripts/annotate_sparse.py --num_groups 4 --cams 2 --rescale 1 --keypoint sparse --anno_dir /private/home/taoshaf/data/annotation/arctic/annos/full --seqs s02/phone_use_02,s08/ketchup_use_02,s09/notebook_use_01,s07/ketchup_use_02,s10/ketchup_use_01\n",
      "Submitted batch job 52919043\n",
      "sbatch launch/submit_jobs.bash scripts/annotate_sparse.py --num_groups 4 --cams 2 --rescale 1 --keypoint sparse --anno_dir /private/home/taoshaf/data/annotation/arctic/annos/full --seqs s04/mixer_use_02,s04/phone_use_02,s06/ketchup_grab_01_retake2,s05/waffleiron_use_01,s09/laptop_use_04\n",
      "Submitted batch job 52919044\n",
      "sbatch launch/submit_jobs.bash scripts/annotate_sparse.py --num_groups 4 --cams 2 --rescale 1 --keypoint sparse --anno_dir /private/home/taoshaf/data/annotation/arctic/annos/full --seqs s04/espressomachine_use_02,s01/laptop_use_03,s05/mixer_use_01,s04/capsulemachine_grab_01,s10/ketchup_use_02\n",
      "Submitted batch job 52919045\n",
      "sbatch launch/submit_jobs.bash scripts/annotate_sparse.py --num_groups 4 --cams 2 --rescale 1 --keypoint sparse --anno_dir /private/home/taoshaf/data/annotation/arctic/annos/full --seqs s08/mixer_use_01,s08/box_use_04,s05/box_use_02,s07/waffleiron_use_01,s09/microwave_use_01\n",
      "Submitted batch job 52919046\n",
      "sbatch launch/submit_jobs.bash scripts/annotate_sparse.py --num_groups 4 --cams 2 --rescale 1 --keypoint sparse --anno_dir /private/home/taoshaf/data/annotation/arctic/annos/full --seqs s08/microwave_use_04,s09/ketchup_use_01,s09/laptop_use_03,s02/laptop_grab_01,s07/box_grab_01\n",
      "Submitted batch job 52919047\n",
      "sbatch launch/submit_jobs.bash scripts/annotate_sparse.py --num_groups 4 --cams 2 --rescale 1 --keypoint sparse --anno_dir /private/home/taoshaf/data/annotation/arctic/annos/full --seqs s01/laptop_use_01,s02/mixer_use_02,s01/microwave_use_01,s10/notebook_use_02,s05/phone_use_03\n",
      "Submitted batch job 52919048\n",
      "sbatch launch/submit_jobs.bash scripts/annotate_sparse.py --num_groups 4 --cams 2 --rescale 1 --keypoint sparse --anno_dir /private/home/taoshaf/data/annotation/arctic/annos/full --seqs s10/phone_use_01_retake,s06/microwave_use_02,s09/scissors_use_01,s02/phone_grab_01,s09/waffleiron_use_02\n",
      "Submitted batch job 52919049\n",
      "sbatch launch/submit_jobs.bash scripts/annotate_sparse.py --num_groups 4 --cams 2 --rescale 1 --keypoint sparse --anno_dir /private/home/taoshaf/data/annotation/arctic/annos/full --seqs s08/scissors_use_03,s05/scissors_use_02,s10/mixer_use_02,s01/laptop_use_02,s01/box_grab_01\n",
      "Submitted batch job 52919050\n",
      "sbatch launch/submit_jobs.bash scripts/annotate_sparse.py --num_groups 4 --cams 2 --rescale 1 --keypoint sparse --anno_dir /private/home/taoshaf/data/annotation/arctic/annos/full --seqs s05/mixer_grab_01,s09/mixer_use_01,s08/laptop_use_01,s02/mixer_use_01,s05/scissors_use_01_retake\n",
      "Submitted batch job 52919051\n",
      "sbatch launch/submit_jobs.bash scripts/annotate_sparse.py --num_groups 4 --cams 2 --rescale 1 --keypoint sparse --anno_dir /private/home/taoshaf/data/annotation/arctic/annos/full --seqs s08/scissors_use_04,s09/capsulemachine_use_01,s05/laptop_grab_01,s09/ketchup_use_02,s10/capsulemachine_use_02\n",
      "Submitted batch job 52919052\n",
      "sbatch launch/submit_jobs.bash scripts/annotate_sparse.py --num_groups 4 --cams 2 --rescale 1 --keypoint sparse --anno_dir /private/home/taoshaf/data/annotation/arctic/annos/full --seqs s08/notebook_use_02,s02/mixer_use_03,s05/phone_use_04,s05/box_use_01,s06/mixer_grab_01\n",
      "Submitted batch job 52919053\n",
      "sbatch launch/submit_jobs.bash scripts/annotate_sparse.py --num_groups 4 --cams 2 --rescale 1 --keypoint sparse --anno_dir /private/home/taoshaf/data/annotation/arctic/annos/full --seqs s08/ketchup_use_04,s06/waffleiron_use_03,s09/microwave_use_04,s08/capsulemachine_use_01,s05/ketchup_grab_01\n",
      "Submitted batch job 52919054\n",
      "sbatch launch/submit_jobs.bash scripts/annotate_sparse.py --num_groups 4 --cams 2 --rescale 1 --keypoint sparse --anno_dir /private/home/taoshaf/data/annotation/arctic/annos/full --seqs s02/box_use_01,s04/box_grab_01,s08/mixer_use_04,s10/waffleiron_use_02,s06/microwave_grab_01\n",
      "Submitted batch job 52919055\n",
      "sbatch launch/submit_jobs.bash scripts/annotate_sparse.py --num_groups 4 --cams 2 --rescale 1 --keypoint sparse --anno_dir /private/home/taoshaf/data/annotation/arctic/annos/full --seqs s10/waffleiron_use_01,s01/ketchup_use_02,s09/ketchup_use_03,s02/microwave_grab_01,s01/microwave_use_02\n",
      "Submitted batch job 52919056\n",
      "sbatch launch/submit_jobs.bash scripts/annotate_sparse.py --num_groups 4 --cams 2 --rescale 1 --keypoint sparse --anno_dir /private/home/taoshaf/data/annotation/arctic/annos/full --seqs s06/mixer_use_02,s09/ketchup_use_04,s08/phone_use_03,s09/waffleiron_use_03,s05/phone_grab_01\n",
      "Submitted batch job 52919057\n",
      "sbatch launch/submit_jobs.bash scripts/annotate_sparse.py --num_groups 4 --cams 2 --rescale 1 --keypoint sparse --anno_dir /private/home/taoshaf/data/annotation/arctic/annos/full --seqs s02/ketchup_use_03,s01/mixer_use_01,s10/notebook_use_01,s08/microwave_use_03,s02/laptop_use_01\n",
      "Submitted batch job 52919058\n",
      "sbatch launch/submit_jobs.bash scripts/annotate_sparse.py --num_groups 4 --cams 2 --rescale 1 --keypoint sparse --anno_dir /private/home/taoshaf/data/annotation/arctic/annos/full --seqs s02/laptop_use_02,s04/notebook_use_02,s06/microwave_use_01,s08/phone_use_02,s06/waffleiron_use_04\n",
      "Submitted batch job 52919059\n",
      "sbatch launch/submit_jobs.bash scripts/annotate_sparse.py --num_groups 4 --cams 2 --rescale 1 --keypoint sparse --anno_dir /private/home/taoshaf/data/annotation/arctic/annos/full --seqs s02/waffleiron_use_01,s01/box_use_01,s01/waffleiron_grab_01,s09/phone_use_03,s01/mixer_use_02\n",
      "Submitted batch job 52919060\n",
      "sbatch launch/submit_jobs.bash scripts/annotate_sparse.py --num_groups 4 --cams 2 --rescale 1 --keypoint sparse --anno_dir /private/home/taoshaf/data/annotation/arctic/annos/full --seqs s08/waffleiron_use_01,s10/waffleiron_grab_01,s10/scissors_use_02,s08/notebook_use_03,s06/notebook_grab_01\n",
      "Submitted batch job 52919061\n",
      "sbatch launch/submit_jobs.bash scripts/annotate_sparse.py --num_groups 4 --cams 2 --rescale 1 --keypoint sparse --anno_dir /private/home/taoshaf/data/annotation/arctic/annos/full --seqs s08/phone_use_04,s06/box_use_04,s06/espressomachine_grab_01,s04/scissors_grab_01,s02/ketchup_use_04\n",
      "Submitted batch job 52919062\n",
      "sbatch launch/submit_jobs.bash scripts/annotate_sparse.py --num_groups 4 --cams 2 --rescale 1 --keypoint sparse --anno_dir /private/home/taoshaf/data/annotation/arctic/annos/full --seqs s09/capsulemachine_use_04,s02/ketchup_use_01,s06/capsulemachine_use_01,s07/ketchup_grab_01,s04/laptop_grab_01\n",
      "Submitted batch job 52919063\n",
      "sbatch launch/submit_jobs.bash scripts/annotate_sparse.py --num_groups 4 --cams 2 --rescale 1 --keypoint sparse --anno_dir /private/home/taoshaf/data/annotation/arctic/annos/full --seqs s01/ketchup_grab_01,s02/scissors_grab_01,s05/phone_use_02,s08/microwave_use_01,s09/laptop_use_01\n",
      "Submitted batch job 52919064\n",
      "sbatch launch/submit_jobs.bash scripts/annotate_sparse.py --num_groups 4 --cams 2 --rescale 1 --keypoint sparse --anno_dir /private/home/taoshaf/data/annotation/arctic/annos/full --seqs s09/espressomachine_use_02,s09/scissors_use_02,s04/mixer_grab_01,s07/capsulemachine_use_02,s08/espressomachine_use_01\n",
      "Submitted batch job 52919066\n",
      "sbatch launch/submit_jobs.bash scripts/annotate_sparse.py --num_groups 4 --cams 2 --rescale 1 --keypoint sparse --anno_dir /private/home/taoshaf/data/annotation/arctic/annos/full --seqs s04/microwave_use_02,s06/notebook_use_02,s01/microwave_grab_01,s05/capsulemachine_use_02,s05/microwave_grab_01\n",
      "Submitted batch job 52919067\n",
      "sbatch launch/submit_jobs.bash scripts/annotate_sparse.py --num_groups 4 --cams 2 --rescale 1 --keypoint sparse --anno_dir /private/home/taoshaf/data/annotation/arctic/annos/full --seqs s01/waffleiron_use_02,s06/scissors_use_01,s02/capsulemachine_grab_01,s07/scissors_use_01,s10/phone_grab_01\n",
      "Submitted batch job 52919068\n",
      "sbatch launch/submit_jobs.bash scripts/annotate_sparse.py --num_groups 4 --cams 2 --rescale 1 --keypoint sparse --anno_dir /private/home/taoshaf/data/annotation/arctic/annos/full --seqs s04/capsulemachine_use_02,s01/phone_use_02,s07/notebook_use_01,s02/notebook_use_02,s08/mixer_use_02\n",
      "Submitted batch job 52919069\n",
      "sbatch launch/submit_jobs.bash scripts/annotate_sparse.py --num_groups 4 --cams 2 --rescale 1 --keypoint sparse --anno_dir /private/home/taoshaf/data/annotation/arctic/annos/full --seqs s08/laptop_use_04,s02/microwave_use_01,s10/capsulemachine_use_01,s06/box_use_03,s02/espressomachine_grab_01\n",
      "Submitted batch job 52919070\n",
      "sbatch launch/submit_jobs.bash scripts/annotate_sparse.py --num_groups 4 --cams 2 --rescale 1 --keypoint sparse --anno_dir /private/home/taoshaf/data/annotation/arctic/annos/full --seqs s02/ketchup_use_02,s08/mixer_use_03,s09/mixer_use_02,s10/box_use_01,s08/box_use_02\n",
      "Submitted batch job 52919071\n",
      "sbatch launch/submit_jobs.bash scripts/annotate_sparse.py --num_groups 4 --cams 2 --rescale 1 --keypoint sparse --anno_dir /private/home/taoshaf/data/annotation/arctic/annos/full --seqs s08/box_use_03,s01/waffleiron_use_01,s06/espressomachine_use_02,s06/espressomachine_use_01,s05/phone_use_01\n",
      "Submitted batch job 52919072\n",
      "sbatch launch/submit_jobs.bash scripts/annotate_sparse.py --num_groups 4 --cams 2 --rescale 1 --keypoint sparse --anno_dir /private/home/taoshaf/data/annotation/arctic/annos/full --seqs s02/scissors_use_01,s05/notebook_use_01,s04/espressomachine_use_01_retake,s02/mixer_use_04,s09/microwave_use_02\n",
      "Submitted batch job 52919073\n",
      "sbatch launch/submit_jobs.bash scripts/annotate_sparse.py --num_groups 4 --cams 2 --rescale 1 --keypoint sparse --anno_dir /private/home/taoshaf/data/annotation/arctic/annos/full --seqs s07/waffleiron_use_02,s02/waffleiron_grab_01,s08/capsulemachine_use_04,s07/box_use_01,s08/notebook_use_04\n",
      "Submitted batch job 52919074\n",
      "sbatch launch/submit_jobs.bash scripts/annotate_sparse.py --num_groups 4 --cams 2 --rescale 1 --keypoint sparse --anno_dir /private/home/taoshaf/data/annotation/arctic/annos/full --seqs s08/box_use_01,s01/laptop_grab_01,s05/capsulemachine_grab_01,s06/capsulemachine_use_02,s02/box_use_02\n",
      "Submitted batch job 52919075\n",
      "sbatch launch/submit_jobs.bash scripts/annotate_sparse.py --num_groups 4 --cams 2 --rescale 1 --keypoint sparse --anno_dir /private/home/taoshaf/data/annotation/arctic/annos/full --seqs s06/box_use_02,s02/waffleiron_use_02,s04/box_use_02,s02/ketchup_grab_01,s10/espressomachine_use_02\n",
      "Submitted batch job 52919076\n",
      "sbatch launch/submit_jobs.bash scripts/annotate_sparse.py --num_groups 4 --cams 2 --rescale 1 --keypoint sparse --anno_dir /private/home/taoshaf/data/annotation/arctic/annos/full --seqs s05/capsulemachine_use_01,s08/waffleiron_use_04,s02/capsulemachine_use_01,s01/phone_use_01\n",
      "Submitted batch job 52919077\n",
      "sbatch launch/submit_jobs.bash scripts/annotate_sparse.py --num_groups 4 --cams 2 --rescale 1 --keypoint sparse --anno_dir /private/home/taoshaf/data/annotation/arctic/annos/full --seqs s09/espressomachine_use_04,s01/espressomachine_use_02,s01/capsulemachine_use_02,s04/laptop_use_01\n",
      "Submitted batch job 52919078\n",
      "sbatch launch/submit_jobs.bash scripts/annotate_sparse.py --num_groups 4 --cams 2 --rescale 1 --keypoint sparse --anno_dir /private/home/taoshaf/data/annotation/arctic/annos/full --seqs s08/phone_use_01,s10/laptop_use_02,s09/notebook_use_04,s06/box_use_01\n",
      "Submitted batch job 52919079\n",
      "sbatch launch/submit_jobs.bash scripts/annotate_sparse.py --num_groups 4 --cams 2 --rescale 1 --keypoint sparse --anno_dir /private/home/taoshaf/data/annotation/arctic/annos/full --seqs s08/laptop_use_02,s09/capsulemachine_use_03,s01/phone_grab_01,s05/microwave_use_02\n",
      "Submitted batch job 52919080\n",
      "sbatch launch/submit_jobs.bash scripts/annotate_sparse.py --num_groups 4 --cams 2 --rescale 1 --keypoint sparse --anno_dir /private/home/taoshaf/data/annotation/arctic/annos/full --seqs s09/phone_use_02,s05/notebook_grab_01,s07/laptop_use_02,s04/microwave_use_01\n",
      "Submitted batch job 52919081\n",
      "sbatch launch/submit_jobs.bash scripts/annotate_sparse.py --num_groups 4 --cams 2 --rescale 1 --keypoint sparse --anno_dir /private/home/taoshaf/data/annotation/arctic/annos/full --seqs s07/mixer_use_01,s09/espressomachine_use_01,s01/notebook_use_01,s06/espressomachine_use_03\n",
      "Submitted batch job 52919082\n",
      "sbatch launch/submit_jobs.bash scripts/annotate_sparse.py --num_groups 4 --cams 2 --rescale 1 --keypoint sparse --anno_dir /private/home/taoshaf/data/annotation/arctic/annos/full --seqs s06/phone_use_01,s04/box_use_01,s07/espressomachine_use_02,s01/scissors_use_01\n",
      "Submitted batch job 52919083\n",
      "sbatch launch/submit_jobs.bash scripts/annotate_sparse.py --num_groups 4 --cams 2 --rescale 1 --keypoint sparse --anno_dir /private/home/taoshaf/data/annotation/arctic/annos/full --seqs s02/capsulemachine_use_02,s09/espressomachine_use_03,s08/microwave_use_02,s06/waffleiron_grab_01_retake\n",
      "Submitted batch job 52919084\n",
      "sbatch launch/submit_jobs.bash scripts/annotate_sparse.py --num_groups 4 --cams 2 --rescale 1 --keypoint sparse --anno_dir /private/home/taoshaf/data/annotation/arctic/annos/full --seqs s07/microwave_use_01,s04/laptop_use_02,s01/ketchup_use_01,s09/notebook_use_03\n",
      "Submitted batch job 52919085\n",
      "sbatch launch/submit_jobs.bash scripts/annotate_sparse.py --num_groups 4 --cams 2 --rescale 1 --keypoint sparse --anno_dir /private/home/taoshaf/data/annotation/arctic/annos/full --seqs s04/phone_grab_01,s07/laptop_use_01,s06/notebook_use_01,s04/capsulemachine_use_01\n",
      "Submitted batch job 52919086\n",
      "sbatch launch/submit_jobs.bash scripts/annotate_sparse.py --num_groups 4 --cams 2 --rescale 1 --keypoint sparse --anno_dir /private/home/taoshaf/data/annotation/arctic/annos/full --seqs s02/espressomachine_use_01,s01/capsulemachine_grab_01,s07/capsulemachine_use_01,s07/notebook_use_02\n",
      "Submitted batch job 52919087\n",
      "sbatch launch/submit_jobs.bash scripts/annotate_sparse.py --num_groups 4 --cams 2 --rescale 1 --keypoint sparse --anno_dir /private/home/taoshaf/data/annotation/arctic/annos/full --seqs s07/waffleiron_grab_01,s05/scissors_grab_01,s01/scissors_use_02,s07/espressomachine_use_01\n",
      "Submitted batch job 52919088\n",
      "sbatch launch/submit_jobs.bash scripts/annotate_sparse.py --num_groups 4 --cams 2 --rescale 1 --keypoint sparse --anno_dir /private/home/taoshaf/data/annotation/arctic/annos/full --seqs s10/ketchup_grab_01,s07/microwave_grab_01,s04/mixer_use_01,s06/waffleiron_use_02\n",
      "Submitted batch job 52919089\n",
      "sbatch launch/submit_jobs.bash scripts/annotate_sparse.py --num_groups 4 --cams 2 --rescale 1 --keypoint sparse --anno_dir /private/home/taoshaf/data/annotation/arctic/annos/full --seqs s06/phone_grab_01,s02/scissors_use_02,s02/espressomachine_use_02,s01/box_use_02\n",
      "Submitted batch job 52919095\n",
      "sbatch launch/submit_jobs.bash scripts/annotate_sparse.py --num_groups 4 --cams 2 --rescale 1 --keypoint sparse --anno_dir /private/home/taoshaf/data/annotation/arctic/annos/full --seqs s04/espressomachine_grab_01,s04/scissors_use_01,s08/espressomachine_use_03,s08/notebook_use_01\n",
      "Submitted batch job 52919096\n",
      "sbatch launch/submit_jobs.bash scripts/annotate_sparse.py --num_groups 4 --cams 2 --rescale 1 --keypoint sparse --anno_dir /private/home/taoshaf/data/annotation/arctic/annos/full --seqs s02/mixer_grab_01,s06/capsulemachine_grab_01,s07/phone_grab_01,s05/espressomachine_grab_01\n",
      "Submitted batch job 52919097\n",
      "sbatch launch/submit_jobs.bash scripts/annotate_sparse.py --num_groups 4 --cams 2 --rescale 1 --keypoint sparse --anno_dir /private/home/taoshaf/data/annotation/arctic/annos/full --seqs s08/espressomachine_use_02,s06/waffleiron_use_01,s05/microwave_use_01,s08/ketchup_use_01\n",
      "Submitted batch job 52919098\n",
      "sbatch launch/submit_jobs.bash scripts/annotate_sparse.py --num_groups 4 --cams 2 --rescale 1 --keypoint sparse --anno_dir /private/home/taoshaf/data/annotation/arctic/annos/full --seqs s07/scissors_grab_01,s02/microwave_use_02,s04/notebook_grab_01,s07/scissors_use_02\n",
      "Submitted batch job 52919099\n",
      "sbatch launch/submit_jobs.bash scripts/annotate_sparse.py --num_groups 4 --cams 2 --rescale 1 --keypoint sparse --anno_dir /private/home/taoshaf/data/annotation/arctic/annos/full --seqs s06/laptop_use_02_retake,s05/waffleiron_use_02,s02/notebook_use_01,s01/scissors_grab_01\n",
      "Submitted batch job 52919100\n"
     ]
    }
   ],
   "source": [
    "for job in range(0, num_jobs):\n",
    "    seqs_job = \",\".join(seqs[seq_offsets[job] : seq_offsets[job + 1]])\n",
    "    cmd = common_cmd + [\"--seqs\", seqs_job]\n",
    "    print(\" \".join(cmd))\n",
    "    subprocess.run(cmd, cwd=\"..\")"
   ]
  },
  {
   "cell_type": "code",
   "execution_count": null,
   "id": "4f6fbb8b",
   "metadata": {},
   "outputs": [],
   "source": [
    "dataset = \"egoexo4d\"\n",
    "data_dir = os.path.join(\"/private/home/taoshaf/data/\", dataset)\n",
    "seqs = sorted(os.listdir(data_dir))\n",
    "seqs = [\n",
    "    seq\n",
    "    for seq in seqs\n",
    "    if os.path.exists(os.path.join(data_dir, seq, \"keypoints\", \"vitpose\"))\n",
    "]\n",
    "\n",
    "for seq in seqs:\n",
    "    if os.path.exists(os.path.join(data_dir, seq, \"cameras.txt\")):\n",
    "        print(seq)"
   ]
  },
  {
   "cell_type": "code",
   "execution_count": 5,
   "id": "f137ddc8",
   "metadata": {},
   "outputs": [],
   "source": [
    "import pandas as pd\n",
    "import os\n",
    "seq = \"uniandes_dance_008_45\"\n",
    "results = pd.read_pickle(os.path.join(data_dir, seq, \"results\", \"final_atlas\", \"dense\", \"single_frame_results.pkl\"))"
   ]
  },
  {
   "cell_type": "code",
   "execution_count": 6,
   "id": "5f8304e0",
   "metadata": {},
   "outputs": [
    {
     "data": {
      "text/plain": [
       "dict_keys(['all', 'cam01', 'cam02', 'cam03', 'cam04'])"
      ]
     },
     "execution_count": 6,
     "metadata": {},
     "output_type": "execute_result"
    }
   ],
   "source": [
    "results.keys()"
   ]
  }
 ],
 "metadata": {
  "kernelspec": {
   "display_name": "3po",
   "language": "python",
   "name": "python3"
  },
  "language_info": {
   "codemirror_mode": {
    "name": "ipython",
    "version": 3
   },
   "file_extension": ".py",
   "mimetype": "text/x-python",
   "name": "python",
   "nbconvert_exporter": "python",
   "pygments_lexer": "ipython3",
   "version": "3.12.9"
  }
 },
 "nbformat": 4,
 "nbformat_minor": 5
}
