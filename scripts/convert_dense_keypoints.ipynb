{
 "cells": [
  {
   "cell_type": "code",
   "execution_count": 9,
   "id": "d22a8a96",
   "metadata": {},
   "outputs": [],
   "source": [
    "import os\n",
    "import subprocess\n",
    "import numpy as np\n",
    "import random\n",
    "from tqdm import tqdm"
   ]
  },
  {
   "cell_type": "code",
   "execution_count": 10,
   "id": "392e8ffd",
   "metadata": {},
   "outputs": [],
   "source": [
    "data_dir = \"/large_experiments/3po/data/arctic/arctic/data/arctic_data/data\"\n",
    "save_dir = \"/private/home/taoshaf/data/arctic\"\n",
    "mocap_dir = os.path.join(data_dir, \"mocap_npy\")\n",
    "seqs = [\n",
    "    \"/\".join(seq.split(\".npy\")[0].split(\"_\", 1))\n",
    "    for seq in sorted(os.listdir(mocap_dir))\n",
    "]"
   ]
  },
  {
   "cell_type": "code",
   "execution_count": 11,
   "id": "f2b80ffa",
   "metadata": {},
   "outputs": [],
   "source": [
    "num_seqs = len(seqs)\n",
    "num_jobs = min(len(seqs), 32)\n",
    "num_seqs_per_job = num_seqs // num_jobs\n",
    "seqs_for_jobs = [\n",
    "    num_seqs_per_job + (job < (num_seqs - num_seqs_per_job * num_jobs))\n",
    "    for job in range(num_jobs)\n",
    "]\n",
    "seq_offsets = np.cumsum([0] + seqs_for_jobs)"
   ]
  },
  {
   "cell_type": "code",
   "execution_count": 12,
   "id": "f6e6ae1d",
   "metadata": {},
   "outputs": [],
   "source": [
    "common_cmd = [\"sbatch\", \"launch/submit_jobs.bash\", \"scripts/convert_dense_keypoints.py\", \"--num_jobs\", \"4\"]"
   ]
  },
  {
   "cell_type": "code",
   "execution_count": 13,
   "id": "69c59cd9",
   "metadata": {},
   "outputs": [
    {
     "name": "stdout",
     "output_type": "stream",
     "text": [
      "sbatch launch/submit_jobs.bash scripts/convert_dense_keypoints.py --num_jobs 4 --seqs s01/box_grab_01,s01/box_use_01,s01/box_use_02,s01/capsulemachine_grab_01,s01/capsulemachine_use_01,s01/capsulemachine_use_02,s01/espressomachine_grab_01,s01/espressomachine_use_01,s01/espressomachine_use_02,s01/ketchup_grab_01\n",
      "Submitted batch job 53760609\n",
      "sbatch launch/submit_jobs.bash scripts/convert_dense_keypoints.py --num_jobs 4 --seqs s01/ketchup_use_01,s01/ketchup_use_02,s01/laptop_grab_01,s01/laptop_use_01,s01/laptop_use_02,s01/laptop_use_03,s01/laptop_use_04,s01/microwave_grab_01,s01/microwave_use_01,s01/microwave_use_02\n",
      "Submitted batch job 53760610\n",
      "sbatch launch/submit_jobs.bash scripts/convert_dense_keypoints.py --num_jobs 4 --seqs s01/mixer_grab_01,s01/mixer_use_01,s01/mixer_use_02,s01/notebook_use_01,s01/notebook_use_02,s01/phone_grab_01,s01/phone_use_01,s01/phone_use_02,s01/scissors_grab_01,s01/scissors_use_01\n",
      "Submitted batch job 53760611\n",
      "sbatch launch/submit_jobs.bash scripts/convert_dense_keypoints.py --num_jobs 4 --seqs s01/scissors_use_02,s01/waffleiron_grab_01,s01/waffleiron_use_01,s01/waffleiron_use_02,s02/box_grab_01,s02/box_use_01,s02/box_use_02,s02/capsulemachine_grab_01,s02/capsulemachine_use_01,s02/capsulemachine_use_02\n",
      "Submitted batch job 53760612\n",
      "sbatch launch/submit_jobs.bash scripts/convert_dense_keypoints.py --num_jobs 4 --seqs s02/espressomachine_grab_01,s02/espressomachine_use_01,s02/espressomachine_use_02,s02/ketchup_grab_01,s02/ketchup_use_01,s02/ketchup_use_02,s02/ketchup_use_03,s02/ketchup_use_04,s02/laptop_grab_01,s02/laptop_use_01\n",
      "Submitted batch job 53760613\n",
      "sbatch launch/submit_jobs.bash scripts/convert_dense_keypoints.py --num_jobs 4 --seqs s02/laptop_use_02,s02/microwave_grab_01,s02/microwave_use_01,s02/microwave_use_01_retake,s02/microwave_use_02,s02/mixer_grab_01,s02/mixer_use_01,s02/mixer_use_02,s02/mixer_use_03,s02/mixer_use_04\n",
      "Submitted batch job 53760614\n",
      "sbatch launch/submit_jobs.bash scripts/convert_dense_keypoints.py --num_jobs 4 --seqs s02/notebook_use_01,s02/notebook_use_02,s02/phone_grab_01,s02/phone_use_01,s02/phone_use_02,s02/scissors_grab_01,s02/scissors_use_01,s02/scissors_use_02,s02/waffleiron_grab_01,s02/waffleiron_use_01\n",
      "Submitted batch job 53760615\n",
      "sbatch launch/submit_jobs.bash scripts/convert_dense_keypoints.py --num_jobs 4 --seqs s02/waffleiron_use_02,s04/box_grab_01,s04/box_use_01,s04/box_use_02,s04/capsulemachine_grab_01,s04/capsulemachine_use_01,s04/capsulemachine_use_02,s04/espressomachine_grab_01,s04/espressomachine_use_01_retake,s04/espressomachine_use_02\n",
      "Submitted batch job 53760616\n",
      "sbatch launch/submit_jobs.bash scripts/convert_dense_keypoints.py --num_jobs 4 --seqs s04/ketchup_grab_01,s04/ketchup_use_02,s04/laptop_grab_01,s04/laptop_use_01,s04/laptop_use_02,s04/microwave_grab_01,s04/microwave_use_01,s04/microwave_use_02,s04/mixer_grab_01,s04/mixer_use_01\n",
      "Submitted batch job 53760617\n",
      "sbatch launch/submit_jobs.bash scripts/convert_dense_keypoints.py --num_jobs 4 --seqs s04/mixer_use_02,s04/notebook_grab_01,s04/notebook_use_01,s04/notebook_use_02,s04/phone_grab_01,s04/phone_use_01,s04/phone_use_02,s04/scissors_grab_01,s04/scissors_use_01,s04/scissors_use_02\n",
      "Submitted batch job 53760618\n",
      "sbatch launch/submit_jobs.bash scripts/convert_dense_keypoints.py --num_jobs 4 --seqs s04/waffleiron_use_01,s04/waffleiron_use_02,s05/box_grab_01,s05/box_use_01,s05/box_use_02,s05/capsulemachine_grab_01,s05/capsulemachine_use_01,s05/capsulemachine_use_02,s05/espressomachine_grab_01,s05/espressomachine_use_01\n",
      "Submitted batch job 53760619\n",
      "sbatch launch/submit_jobs.bash scripts/convert_dense_keypoints.py --num_jobs 4 --seqs s05/espressomachine_use_02,s05/ketchup_grab_01,s05/ketchup_use_01,s05/laptop_grab_01,s05/laptop_use_01,s05/laptop_use_02,s05/microwave_grab_01,s05/microwave_use_01,s05/microwave_use_02,s05/mixer_grab_01\n",
      "Submitted batch job 53760620\n",
      "sbatch launch/submit_jobs.bash scripts/convert_dense_keypoints.py --num_jobs 4 --seqs s05/mixer_use_01,s05/mixer_use_02,s05/notebook_grab_01,s05/notebook_use_01,s05/notebook_use_02,s05/phone_grab_01,s05/phone_use_01,s05/phone_use_02,s05/phone_use_03,s05/phone_use_04\n",
      "Submitted batch job 53760621\n",
      "sbatch launch/submit_jobs.bash scripts/convert_dense_keypoints.py --num_jobs 4 --seqs s05/scissors_grab_01,s05/scissors_use_01_retake,s05/scissors_use_02,s05/waffleiron_grab_01,s05/waffleiron_use_01,s05/waffleiron_use_02,s06/box_use_01,s06/box_use_02,s06/box_use_03\n",
      "Submitted batch job 53760622\n",
      "sbatch launch/submit_jobs.bash scripts/convert_dense_keypoints.py --num_jobs 4 --seqs s06/box_use_04,s06/capsulemachine_grab_01,s06/capsulemachine_use_01,s06/capsulemachine_use_02,s06/espressomachine_grab_01,s06/espressomachine_use_01,s06/espressomachine_use_02,s06/espressomachine_use_03,s06/espressomachine_use_04\n",
      "Submitted batch job 53760623\n",
      "sbatch launch/submit_jobs.bash scripts/convert_dense_keypoints.py --num_jobs 4 --seqs s06/ketchup_grab_01_retake2,s06/ketchup_use_01,s06/ketchup_use_02,s06/laptop_use_01_retake,s06/laptop_use_02_retake,s06/microwave_grab_01,s06/microwave_use_01,s06/microwave_use_02,s06/mixer_grab_01\n",
      "Submitted batch job 53760624\n",
      "sbatch launch/submit_jobs.bash scripts/convert_dense_keypoints.py --num_jobs 4 --seqs s06/mixer_use_01,s06/mixer_use_02,s06/notebook_grab_01,s06/notebook_use_01,s06/notebook_use_02,s06/phone_grab_01,s06/phone_use_01,s06/phone_use_02,s06/scissors_grab_01\n",
      "Submitted batch job 53760625\n",
      "sbatch launch/submit_jobs.bash scripts/convert_dense_keypoints.py --num_jobs 4 --seqs s06/scissors_use_01,s06/waffleiron_grab_01_retake,s06/waffleiron_use_01,s06/waffleiron_use_02,s06/waffleiron_use_03,s06/waffleiron_use_04,s07/box_grab_01,s07/box_use_01,s07/box_use_02\n",
      "Submitted batch job 53760626\n",
      "sbatch launch/submit_jobs.bash scripts/convert_dense_keypoints.py --num_jobs 4 --seqs s07/capsulemachine_use_01,s07/capsulemachine_use_02,s07/espressomachine_grab_01,s07/espressomachine_use_01,s07/espressomachine_use_02,s07/ketchup_grab_01,s07/ketchup_use_02,s07/laptop_grab_01,s07/laptop_use_01\n",
      "Submitted batch job 53760627\n",
      "sbatch launch/submit_jobs.bash scripts/convert_dense_keypoints.py --num_jobs 4 --seqs s07/laptop_use_02,s07/microwave_grab_01,s07/microwave_use_01,s07/microwave_use_02,s07/mixer_grab_01_retake,s07/mixer_use_01,s07/notebook_use_01,s07/notebook_use_02,s07/phone_grab_01\n",
      "Submitted batch job 53760628\n",
      "sbatch launch/submit_jobs.bash scripts/convert_dense_keypoints.py --num_jobs 4 --seqs s07/phone_use_01,s07/phone_use_02,s07/scissors_grab_01,s07/scissors_use_01,s07/scissors_use_02,s07/waffleiron_grab_01,s07/waffleiron_use_01,s07/waffleiron_use_02,s08/box_use_01\n",
      "Submitted batch job 53760629\n",
      "sbatch launch/submit_jobs.bash scripts/convert_dense_keypoints.py --num_jobs 4 --seqs s08/box_use_02,s08/box_use_03,s08/box_use_04,s08/capsulemachine_use_01,s08/capsulemachine_use_02,s08/capsulemachine_use_03,s08/capsulemachine_use_04,s08/espressomachine_use_01,s08/espressomachine_use_02\n",
      "Submitted batch job 53760630\n",
      "sbatch launch/submit_jobs.bash scripts/convert_dense_keypoints.py --num_jobs 4 --seqs s08/espressomachine_use_03,s08/ketchup_use_01,s08/ketchup_use_02,s08/ketchup_use_03,s08/ketchup_use_04,s08/laptop_use_01,s08/laptop_use_02,s08/laptop_use_03,s08/laptop_use_04\n",
      "Submitted batch job 53760631\n",
      "sbatch launch/submit_jobs.bash scripts/convert_dense_keypoints.py --num_jobs 4 --seqs s08/microwave_use_01,s08/microwave_use_02,s08/microwave_use_03,s08/microwave_use_04,s08/mixer_use_01,s08/mixer_use_02,s08/mixer_use_03,s08/mixer_use_04,s08/notebook_use_01\n",
      "Submitted batch job 53760632\n",
      "sbatch launch/submit_jobs.bash scripts/convert_dense_keypoints.py --num_jobs 4 --seqs s08/notebook_use_02,s08/notebook_use_03,s08/notebook_use_04,s08/phone_use_01,s08/phone_use_02,s08/phone_use_03,s08/phone_use_04,s08/scissors_use_01,s08/scissors_use_03\n",
      "Submitted batch job 53760633\n",
      "sbatch launch/submit_jobs.bash scripts/convert_dense_keypoints.py --num_jobs 4 --seqs s08/scissors_use_04,s08/waffleiron_use_01,s08/waffleiron_use_02,s08/waffleiron_use_03,s08/waffleiron_use_04,s09/capsulemachine_use_01,s09/capsulemachine_use_02,s09/capsulemachine_use_03,s09/capsulemachine_use_04\n",
      "Submitted batch job 53760634\n",
      "sbatch launch/submit_jobs.bash scripts/convert_dense_keypoints.py --num_jobs 4 --seqs s09/espressomachine_use_01,s09/espressomachine_use_02,s09/espressomachine_use_03,s09/espressomachine_use_04,s09/ketchup_use_01,s09/ketchup_use_02,s09/ketchup_use_03,s09/ketchup_use_04,s09/laptop_use_01\n",
      "Submitted batch job 53760635\n",
      "sbatch launch/submit_jobs.bash scripts/convert_dense_keypoints.py --num_jobs 4 --seqs s09/laptop_use_02,s09/laptop_use_03,s09/laptop_use_04,s09/microwave_use_01,s09/microwave_use_02,s09/microwave_use_03,s09/microwave_use_04,s09/mixer_use_01,s09/mixer_use_02\n",
      "Submitted batch job 53760636\n",
      "sbatch launch/submit_jobs.bash scripts/convert_dense_keypoints.py --num_jobs 4 --seqs s09/mixer_use_03,s09/mixer_use_04,s09/notebook_use_01,s09/notebook_use_02,s09/notebook_use_03,s09/notebook_use_04,s09/phone_use_02,s09/phone_use_03,s09/scissors_use_01\n",
      "Submitted batch job 53760637\n",
      "sbatch launch/submit_jobs.bash scripts/convert_dense_keypoints.py --num_jobs 4 --seqs s09/scissors_use_02,s09/scissors_use_04,s09/waffleiron_use_01,s09/waffleiron_use_02,s09/waffleiron_use_03,s09/waffleiron_use_04,s10/box_use_01,s10/box_use_02,s10/capsulemachine_use_01\n",
      "Submitted batch job 53760638\n",
      "sbatch launch/submit_jobs.bash scripts/convert_dense_keypoints.py --num_jobs 4 --seqs s10/capsulemachine_use_02,s10/espressomachine_use_02,s10/ketchup_grab_01,s10/ketchup_use_01,s10/ketchup_use_02,s10/laptop_use_01,s10/laptop_use_02,s10/mixer_use_01,s10/mixer_use_02\n",
      "Submitted batch job 53760639\n",
      "sbatch launch/submit_jobs.bash scripts/convert_dense_keypoints.py --num_jobs 4 --seqs s10/notebook_use_01,s10/notebook_use_02,s10/phone_grab_01,s10/phone_use_01_retake,s10/phone_use_02,s10/scissors_use_02,s10/waffleiron_grab_01,s10/waffleiron_use_01,s10/waffleiron_use_02\n",
      "Submitted batch job 53760640\n"
     ]
    }
   ],
   "source": [
    "for job in range(0, num_jobs):\n",
    "    seqs_job = \",\".join(seqs[seq_offsets[job] : seq_offsets[job + 1]])\n",
    "    cmd = common_cmd + [\"--seqs\", seqs_job]\n",
    "    print(\" \".join(cmd))\n",
    "    subprocess.run(cmd, cwd=\"..\")"
   ]
  },
  {
   "cell_type": "markdown",
   "id": "94080b81",
   "metadata": {},
   "source": [
    "## Check Dense Keypoints"
   ]
  },
  {
   "cell_type": "code",
   "execution_count": 29,
   "id": "c428459b",
   "metadata": {},
   "outputs": [],
   "source": [
    "import os\n",
    "import pandas as pd\n",
    "import pickle\n",
    "from tqdm import tqdm\n",
    "import numpy as np\n",
    "import random\n",
    "import subprocess\n",
    "from tqdm import tqdm"
   ]
  },
  {
   "cell_type": "code",
   "execution_count": 38,
   "id": "adb54ac5",
   "metadata": {},
   "outputs": [],
   "source": [
    "orig_dir = \"/checkpoint/taoshaf/results/CondDenseDetection/egohumans\"\n",
    "save_dir = \"/private/home/taoshaf/data/egohumans\"\n",
    "subjects = sorted(os.listdir(orig_dir))\n",
    "seqs = []\n",
    "for subject in subjects:\n",
    "    subseqs = os.listdir(os.path.join(orig_dir, subject))\n",
    "    for subseq in subseqs:\n",
    "        seq = os.path.join(subject, subseq)\n",
    "        seqs.append(seq)\n",
    "seqs = sorted(seqs)"
   ]
  },
  {
   "cell_type": "code",
   "execution_count": 66,
   "id": "0dce3eff",
   "metadata": {},
   "outputs": [
    {
     "name": "stderr",
     "output_type": "stream",
     "text": [
      "100%|██████████| 113/113 [00:53<00:00,  2.12it/s]\n"
     ]
    }
   ],
   "source": [
    "for seq in tqdm(seqs):\n",
    "    seq_dir = os.path.join(save_dir, seq)\n",
    "    keypoint_dir = os.path.join(seq_dir, \"keypoints\", \"dense\")\n",
    "    cams = sorted(os.listdir(keypoint_dir))\n",
    "    for cam in cams:\n",
    "        arias = sorted(os.listdir(os.path.join(keypoint_dir, cam)))\n",
    "        for person in arias:\n",
    "            num_frames = len(os.listdir(os.path.join(keypoint_dir, cam, person)))\n",
    "            if not os.path.exists(os.path.join(orig_dir, seq, person, cam)): \n",
    "                continue\n",
    "            num_annos = len(os.listdir(os.path.join(orig_dir, seq, person, cam)))\n",
    "            assert num_frames == num_annos\n",
    "\n"
   ]
  },
  {
   "cell_type": "code",
   "execution_count": 52,
   "id": "f4c0439d",
   "metadata": {},
   "outputs": [],
   "source": [
    "frames = os.listdir(os.path.join(keypoint_dir, cam, person))\n",
    "annos = os.listdir(os.path.join(orig_dir, seq, person, cam))"
   ]
  },
  {
   "cell_type": "code",
   "execution_count": 50,
   "id": "c37bbc56",
   "metadata": {},
   "outputs": [
    {
     "data": {
      "text/plain": [
       "'/checkpoint/taoshaf/results/CondDenseDetection/egohumans/01_tagging/001_tagging/aria04/cam08'"
      ]
     },
     "execution_count": 50,
     "metadata": {},
     "output_type": "execute_result"
    }
   ],
   "source": [
    "os.path.join(orig_dir, seq, person, cam)"
   ]
  },
  {
   "cell_type": "code",
   "execution_count": 49,
   "id": "dba7b20e",
   "metadata": {},
   "outputs": [
    {
     "data": {
      "text/plain": [
       "'/private/home/taoshaf/data/egohumans/01_tagging/001_tagging/keypoints/dense/cam08/aria04'"
      ]
     },
     "execution_count": 49,
     "metadata": {},
     "output_type": "execute_result"
    }
   ],
   "source": [
    "os.path.join(keypoint_dir, cam, person)"
   ]
  }
 ],
 "metadata": {
  "kernelspec": {
   "display_name": "3po",
   "language": "python",
   "name": "python3"
  },
  "language_info": {
   "codemirror_mode": {
    "name": "ipython",
    "version": 3
   },
   "file_extension": ".py",
   "mimetype": "text/x-python",
   "name": "python",
   "nbconvert_exporter": "python",
   "pygments_lexer": "ipython3",
   "version": "3.12.11"
  }
 },
 "nbformat": 4,
 "nbformat_minor": 5
}
